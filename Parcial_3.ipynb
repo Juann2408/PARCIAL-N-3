{
  "nbformat": 4,
  "nbformat_minor": 0,
  "metadata": {
    "colab": {
      "provenance": [],
      "authorship_tag": "ABX9TyN+jDg/XzZ6pVZRbExsrGns"
    },
    "kernelspec": {
      "name": "python3",
      "display_name": "Python 3"
    },
    "language_info": {
      "name": "python"
    }
  },
  "cells": [
    {
      "cell_type": "code",
      "execution_count": null,
      "metadata": {
        "id": "TwckOkdDx4XA"
      },
      "outputs": [],
      "source": [
        "#PARCIAL 3\n",
        "print(\"holaaaa\")"
      ]
    }
  ]
}